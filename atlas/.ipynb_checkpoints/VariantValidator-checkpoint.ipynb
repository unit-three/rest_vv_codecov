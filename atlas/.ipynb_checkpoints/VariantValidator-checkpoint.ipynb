{
 "cells": [
  {
   "cell_type": "markdown",
   "id": "378e553a-d559-4627-8763-a92264a59510",
   "metadata": {},
   "source": [
    "git+https://github.com/openvar/variantValidator@master#egg=VariantValidator\n",
    "\n",
    "https://github.com/al-baba/rest_variantValidatorFORK/blob/re-create2/rest_variantValidator/app.py\n",
    "\n",
    "https://github.com/openvar/rest_variantValidator/commit/d865469f5a899d6b3211be1b209009f79342c941\n",
    "\n",
    "https://docs.pytest.org/en/7.4.x/getting-started.html#getstarted\n",
    "https://app.codecov.io/gh/openvar/rest_variantValidator/blob/development4/rest_VariantValidator%2Fendpoints%2Fvariantvalidator_endpoints.py"
   ]
  },
  {
   "cell_type": "code",
   "execution_count": null,
   "id": "ad8a7482-f852-4349-bf9f-97553c9cb6c1",
   "metadata": {},
   "outputs": [],
   "source": [
    "import VariantValidator\n",
    "\n",
    "vval = VariantValidator.Validator()"
   ]
  }
 ],
 "metadata": {
  "kernelspec": {
   "display_name": "Python 3 (ipykernel)",
   "language": "python",
   "name": "python3"
  },
  "language_info": {
   "codemirror_mode": {
    "name": "ipython",
    "version": 3
   },
   "file_extension": ".py",
   "mimetype": "text/x-python",
   "name": "python",
   "nbconvert_exporter": "python",
   "pygments_lexer": "ipython3",
   "version": "3.8.18"
  }
 },
 "nbformat": 4,
 "nbformat_minor": 5
}
