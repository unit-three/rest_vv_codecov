{
 "cells": [
  {
   "cell_type": "markdown",
   "id": "efef3d9e-9386-4ed3-b9ea-f3f6b8939f64",
   "metadata": {},
   "source": [
    "## Getting the App running"
   ]
  },
  {
   "cell_type": "markdown",
   "id": "7f5499c6-ebd8-4952-8057-fd3d621213ab",
   "metadata": {},
   "source": [
    "So far all you will need to have done is create a conda environment with python==3.8 and install jupyter into this. \n",
    "\n",
    "$ conda create -n <my_conda_environment> python=3.8\n",
    "\n",
    "$ conda install jupyter\n"
   ]
  },
  {
   "cell_type": "code",
   "execution_count": 1,
   "id": "f01ec9c9-bb2f-4f38-8652-dcca1b7424d1",
   "metadata": {},
   "outputs": [
    {
     "name": "stdout",
     "output_type": "stream",
     "text": [
      "# packages in environment at /home/al_baba/miniconda3/envs/restVV_fork:\n",
      "#\n",
      "# Name                    Version                   Build  Channel\n",
      "_libgcc_mutex             0.1                        main  \n",
      "_openmp_mutex             5.1                       1_gnu  \n",
      "aniso8601                 9.0.1                    pypi_0    pypi\n",
      "anyio                     3.5.0            py38h06a4308_0  \n",
      "argon2-cffi               21.3.0             pyhd3eb1b0_0  \n",
      "argon2-cffi-bindings      21.2.0           py38h7f8727e_0  \n",
      "asttokens                 2.0.5              pyhd3eb1b0_0  \n",
      "async-lru                 2.0.4            py38h06a4308_0  \n",
      "attrs                     23.1.0           py38h06a4308_0  \n",
      "babel                     2.11.0           py38h06a4308_0  \n",
      "backcall                  0.2.0              pyhd3eb1b0_0  \n",
      "beautifulsoup4            4.12.2           py38h06a4308_0  \n",
      "bleach                    4.1.0              pyhd3eb1b0_0  \n",
      "brotli-python             1.0.9            py38h6a678d5_7  \n",
      "ca-certificates           2023.12.12           h06a4308_0  \n",
      "certifi                   2023.11.17       py38h06a4308_0  \n",
      "cffi                      1.16.0           py38h5eee18b_0  \n",
      "charset-normalizer        2.0.4              pyhd3eb1b0_0  \n",
      "click                     8.1.7                    pypi_0    pypi\n",
      "comm                      0.1.2            py38h06a4308_0  \n",
      "cryptography              41.0.7           py38hdda0065_0  \n",
      "cyrus-sasl                2.1.28               h52b45da_1  \n",
      "dbus                      1.13.18              hb2f20db_0  \n",
      "debugpy                   1.6.7            py38h6a678d5_0  \n",
      "decorator                 5.1.1              pyhd3eb1b0_0  \n",
      "defusedxml                0.7.1              pyhd3eb1b0_0  \n",
      "executing                 0.8.3              pyhd3eb1b0_0  \n",
      "expat                     2.5.0                h6a678d5_0  \n",
      "flask                     1.1.1                    pypi_0    pypi\n",
      "flask-restplus            0.13.0                   pypi_0    pypi\n",
      "fontconfig                2.14.1               h4c34cd2_2  \n",
      "freetype                  2.12.1               h4a9f257_0  \n",
      "glib                      2.69.1               he621ea3_2  \n",
      "gst-plugins-base          1.14.1               h6a678d5_1  \n",
      "gstreamer                 1.14.1               h5eee18b_1  \n",
      "icu                       73.1                 h6a678d5_0  \n",
      "idna                      3.4              py38h06a4308_0  \n",
      "importlib-metadata        7.0.1            py38h06a4308_0  \n",
      "importlib_metadata        7.0.1                hd3eb1b0_0  \n",
      "importlib_resources       6.1.1            py38h06a4308_1  \n",
      "ipykernel                 6.25.0           py38h2f386ee_0  \n",
      "ipython                   8.12.2           py38h06a4308_0  \n",
      "ipywidgets                8.0.4            py38h06a4308_0  \n",
      "itsdangerous              2.0.1                    pypi_0    pypi\n",
      "jedi                      0.18.1           py38h06a4308_1  \n",
      "jinja2                    3.0.3                    pypi_0    pypi\n",
      "jpeg                      9e                   h5eee18b_1  \n",
      "json5                     0.9.6              pyhd3eb1b0_0  \n",
      "jsonschema                4.19.2           py38h06a4308_0  \n",
      "jsonschema-specifications 2023.7.1         py38h06a4308_0  \n",
      "jupyter                   1.0.0            py38h06a4308_8  \n",
      "jupyter-lsp               2.2.0            py38h06a4308_0  \n",
      "jupyter_client            8.6.0            py38h06a4308_0  \n",
      "jupyter_console           6.6.3            py38h06a4308_0  \n",
      "jupyter_core              5.5.0            py38h06a4308_0  \n",
      "jupyter_events            0.8.0            py38h06a4308_0  \n",
      "jupyter_server            2.10.0           py38h06a4308_0  \n",
      "jupyter_server_terminals  0.4.4            py38h06a4308_1  \n",
      "jupyterlab                4.0.8            py38h06a4308_0  \n",
      "jupyterlab_pygments       0.1.2                      py_0  \n",
      "jupyterlab_server         2.25.1           py38h06a4308_0  \n",
      "jupyterlab_widgets        3.0.9            py38h06a4308_0  \n",
      "krb5                      1.20.1               h143b758_1  \n",
      "ld_impl_linux-64          2.38                 h1181459_1  \n",
      "libclang                  14.0.6          default_hc6dbbc7_1  \n",
      "libclang13                14.0.6          default_he11475f_1  \n",
      "libcups                   2.4.2                h2d74bed_1  \n",
      "libedit                   3.1.20230828         h5eee18b_0  \n",
      "libffi                    3.4.4                h6a678d5_0  \n",
      "libgcc-ng                 11.2.0               h1234567_1  \n",
      "libgomp                   11.2.0               h1234567_1  \n",
      "libllvm14                 14.0.6               hdb19cb5_3  \n",
      "libpng                    1.6.39               h5eee18b_0  \n",
      "libpq                     12.15                hdbd6064_1  \n",
      "libsodium                 1.0.18               h7b6447c_0  \n",
      "libstdcxx-ng              11.2.0               h1234567_1  \n",
      "libuuid                   1.41.5               h5eee18b_0  \n",
      "libxcb                    1.15                 h7f8727e_0  \n",
      "libxkbcommon              1.0.1                h5eee18b_1  \n",
      "libxml2                   2.10.4               hf1b16e4_1  \n",
      "lz4-c                     1.9.4                h6a678d5_0  \n",
      "markupsafe                2.1.3            py38h5eee18b_0  \n",
      "matplotlib-inline         0.1.6            py38h06a4308_0  \n",
      "mistune                   2.0.4            py38h06a4308_0  \n",
      "mysql                     5.7.24               h721c034_2  \n",
      "nbclient                  0.8.0            py38h06a4308_0  \n",
      "nbconvert                 7.10.0           py38h06a4308_0  \n",
      "nbformat                  5.9.2            py38h06a4308_0  \n",
      "ncurses                   6.4                  h6a678d5_0  \n",
      "nest-asyncio              1.5.6            py38h06a4308_0  \n",
      "notebook                  7.0.6            py38h06a4308_0  \n",
      "notebook-shim             0.2.3            py38h06a4308_0  \n",
      "openssl                   3.0.12               h7f8727e_0  \n",
      "overrides                 7.4.0            py38h06a4308_0  \n",
      "packaging                 23.1             py38h06a4308_0  \n",
      "pandocfilters             1.5.0              pyhd3eb1b0_0  \n",
      "parso                     0.8.3              pyhd3eb1b0_0  \n",
      "pcre                      8.45                 h295c915_0  \n",
      "pexpect                   4.8.0              pyhd3eb1b0_3  \n",
      "pickleshare               0.7.5           pyhd3eb1b0_1003  \n",
      "pip                       23.3.1           py38h06a4308_0  \n",
      "pkgutil-resolve-name      1.3.10           py38h06a4308_1  \n",
      "platformdirs              3.10.0           py38h06a4308_0  \n",
      "ply                       3.11                     py38_0  \n",
      "prometheus_client         0.14.1           py38h06a4308_0  \n",
      "prompt-toolkit            3.0.43           py38h06a4308_0  \n",
      "prompt_toolkit            3.0.43               hd3eb1b0_0  \n",
      "psutil                    5.9.0            py38h5eee18b_0  \n",
      "ptyprocess                0.7.0              pyhd3eb1b0_2  \n",
      "pure_eval                 0.2.2              pyhd3eb1b0_0  \n",
      "pycparser                 2.21               pyhd3eb1b0_0  \n",
      "pygments                  2.15.1           py38h06a4308_1  \n",
      "pyopenssl                 23.2.0           py38h06a4308_0  \n",
      "pyqt                      5.15.10          py38h6a678d5_0  \n",
      "pyqt5-sip                 12.13.0          py38h5eee18b_0  \n",
      "pysocks                   1.7.1            py38h06a4308_0  \n",
      "python                    3.8.18               h955ad1f_0  \n",
      "python-dateutil           2.8.2              pyhd3eb1b0_0  \n",
      "python-fastjsonschema     2.16.2           py38h06a4308_0  \n",
      "python-json-logger        2.0.7            py38h06a4308_0  \n",
      "pytz                      2023.3.post1     py38h06a4308_0  \n",
      "pyyaml                    6.0.1            py38h5eee18b_0  \n",
      "pyzmq                     25.1.2           py38h6a678d5_0  \n",
      "qt-main                   5.15.2              h53bd1ea_10  \n",
      "qtconsole                 5.5.0            py38h06a4308_0  \n",
      "qtpy                      2.4.1            py38h06a4308_0  \n",
      "readline                  8.2                  h5eee18b_0  \n",
      "referencing               0.30.2           py38h06a4308_0  \n",
      "requests                  2.31.0           py38h06a4308_0  \n",
      "rfc3339-validator         0.1.4            py38h06a4308_0  \n",
      "rfc3986-validator         0.1.1            py38h06a4308_0  \n",
      "rpds-py                   0.10.6           py38hb02cf49_0  \n",
      "send2trash                1.8.2            py38h06a4308_0  \n",
      "setuptools                68.2.2           py38h06a4308_0  \n",
      "sip                       6.7.12           py38h6a678d5_0  \n",
      "six                       1.16.0             pyhd3eb1b0_1  \n",
      "sniffio                   1.3.0            py38h06a4308_0  \n",
      "soupsieve                 2.5              py38h06a4308_0  \n",
      "sqlite                    3.41.2               h5eee18b_0  \n",
      "stack_data                0.2.0              pyhd3eb1b0_0  \n",
      "terminado                 0.17.1           py38h06a4308_0  \n",
      "tinycss2                  1.2.1            py38h06a4308_0  \n",
      "tk                        8.6.12               h1ccaba5_0  \n",
      "tomli                     2.0.1            py38h06a4308_0  \n",
      "tornado                   6.3.3            py38h5eee18b_0  \n",
      "traitlets                 5.7.1            py38h06a4308_0  \n",
      "typing-extensions         4.9.0            py38h06a4308_1  \n",
      "typing_extensions         4.9.0            py38h06a4308_1  \n",
      "urllib3                   1.26.18          py38h06a4308_0  \n",
      "wcwidth                   0.2.5              pyhd3eb1b0_0  \n",
      "webencodings              0.5.1                    py38_1  \n",
      "websocket-client          0.58.0           py38h06a4308_4  \n",
      "werkzeug                  0.16.1                   pypi_0    pypi\n",
      "wheel                     0.41.2           py38h06a4308_0  \n",
      "widgetsnbextension        4.0.5            py38h06a4308_0  \n",
      "xz                        5.4.5                h5eee18b_0  \n",
      "yaml                      0.2.5                h7b6447c_0  \n",
      "zeromq                    4.3.5                h6a678d5_0  \n",
      "zipp                      3.17.0           py38h06a4308_0  \n",
      "zlib                      1.2.13               h5eee18b_0  \n",
      "zstd                      1.5.5                hc292b87_0  \n",
      "\n",
      "Note: you may need to restart the kernel to use updated packages.\n"
     ]
    }
   ],
   "source": [
    "conda list"
   ]
  },
  {
   "cell_type": "code",
   "execution_count": 2,
   "id": "34517100-d48c-4012-a382-e4919871bb9b",
   "metadata": {},
   "outputs": [
    {
     "name": "stdout",
     "output_type": "stream",
     "text": [
      "Package                   Version\n",
      "------------------------- ------------\n",
      "aniso8601                 9.0.1\n",
      "anyio                     3.5.0\n",
      "argon2-cffi               21.3.0\n",
      "argon2-cffi-bindings      21.2.0\n",
      "asttokens                 2.0.5\n",
      "async-lru                 2.0.4\n",
      "attrs                     23.1.0\n",
      "Babel                     2.11.0\n",
      "backcall                  0.2.0\n",
      "beautifulsoup4            4.12.2\n",
      "bleach                    4.1.0\n",
      "Brotli                    1.0.9\n",
      "certifi                   2023.11.17\n",
      "cffi                      1.16.0\n",
      "charset-normalizer        2.0.4\n",
      "click                     8.1.7\n",
      "comm                      0.1.2\n",
      "cryptography              41.0.7\n",
      "debugpy                   1.6.7\n",
      "decorator                 5.1.1\n",
      "defusedxml                0.7.1\n",
      "executing                 0.8.3\n",
      "fastjsonschema            2.16.2\n",
      "Flask                     1.1.1\n",
      "flask-restplus            0.13.0\n",
      "idna                      3.4\n",
      "importlib-metadata        7.0.1\n",
      "importlib-resources       6.1.1\n",
      "ipykernel                 6.25.0\n",
      "ipython                   8.12.2\n",
      "ipywidgets                8.0.4\n",
      "itsdangerous              2.0.1\n",
      "jedi                      0.18.1\n",
      "Jinja2                    3.0.3\n",
      "json5                     0.9.6\n",
      "jsonschema                4.19.2\n",
      "jsonschema-specifications 2023.7.1\n",
      "jupyter                   1.0.0\n",
      "jupyter_client            8.6.0\n",
      "jupyter-console           6.6.3\n",
      "jupyter_core              5.5.0\n",
      "jupyter-events            0.8.0\n",
      "jupyter-lsp               2.2.0\n",
      "jupyter_server            2.10.0\n",
      "jupyter_server_terminals  0.4.4\n",
      "jupyterlab                4.0.8\n",
      "jupyterlab-pygments       0.1.2\n",
      "jupyterlab_server         2.25.1\n",
      "jupyterlab-widgets        3.0.9\n",
      "MarkupSafe                2.1.3\n",
      "matplotlib-inline         0.1.6\n",
      "mistune                   2.0.4\n",
      "nbclient                  0.8.0\n",
      "nbconvert                 7.10.0\n",
      "nbformat                  5.9.2\n",
      "nest-asyncio              1.5.6\n",
      "notebook                  7.0.6\n",
      "notebook_shim             0.2.3\n",
      "overrides                 7.4.0\n",
      "packaging                 23.1\n",
      "pandocfilters             1.5.0\n",
      "parso                     0.8.3\n",
      "pexpect                   4.8.0\n",
      "pickleshare               0.7.5\n",
      "pip                       23.3.1\n",
      "pkgutil_resolve_name      1.3.10\n",
      "platformdirs              3.10.0\n",
      "ply                       3.11\n",
      "prometheus-client         0.14.1\n",
      "prompt-toolkit            3.0.43\n",
      "psutil                    5.9.0\n",
      "ptyprocess                0.7.0\n",
      "pure-eval                 0.2.2\n",
      "pycparser                 2.21\n",
      "Pygments                  2.15.1\n",
      "pyOpenSSL                 23.2.0\n",
      "PyQt5                     5.15.10\n",
      "PyQt5-sip                 12.13.0\n",
      "PySocks                   1.7.1\n",
      "python-dateutil           2.8.2\n",
      "python-json-logger        2.0.7\n",
      "pytz                      2023.3.post1\n",
      "PyYAML                    6.0.1\n",
      "pyzmq                     25.1.2\n",
      "qtconsole                 5.5.0\n",
      "QtPy                      2.4.1\n",
      "referencing               0.30.2\n",
      "requests                  2.31.0\n",
      "rfc3339-validator         0.1.4\n",
      "rfc3986-validator         0.1.1\n",
      "rpds-py                   0.10.6\n",
      "Send2Trash                1.8.2\n",
      "setuptools                68.2.2\n",
      "sip                       6.7.12\n",
      "six                       1.16.0\n",
      "sniffio                   1.3.0\n",
      "soupsieve                 2.5\n",
      "stack-data                0.2.0\n",
      "terminado                 0.17.1\n",
      "tinycss2                  1.2.1\n",
      "tomli                     2.0.1\n",
      "tornado                   6.3.3\n",
      "traitlets                 5.7.1\n",
      "typing_extensions         4.9.0\n",
      "urllib3                   1.26.18\n",
      "wcwidth                   0.2.5\n",
      "webencodings              0.5.1\n",
      "websocket-client          0.58.0\n",
      "Werkzeug                  0.16.1\n",
      "wheel                     0.41.2\n",
      "widgetsnbextension        4.0.5\n",
      "zipp                      3.17.0\n",
      "Note: you may need to restart the kernel to use updated packages.\n"
     ]
    }
   ],
   "source": [
    "pip list"
   ]
  },
  {
   "cell_type": "code",
   "execution_count": 3,
   "id": "f2822135-d02f-49be-8b05-0da2b0f73b20",
   "metadata": {},
   "outputs": [
    {
     "name": "stdout",
     "output_type": "stream",
     "text": [
      "al-baba_app_atlas.ipynb  app_v2.py  app_v4.py  app_v6.py  requirements.txt\n",
      "app_v1.py                app_v3.py  app_v5.py  models.py  \u001b[0m\u001b[01;34mrest_api\u001b[0m/\n"
     ]
    }
   ],
   "source": [
    "ls"
   ]
  },
  {
   "cell_type": "code",
   "execution_count": null,
   "id": "c4ea94bc-7236-4209-b11c-7e5361ff38e0",
   "metadata": {},
   "outputs": [
    {
     "name": "stdout",
     "output_type": "stream",
     "text": [
      " * Serving Flask app \"app_v1\" (lazy loading)\n",
      " * Environment: production\n",
      "\u001b[31m   WARNING: This is a development server. Do not use it in a production deployment.\u001b[0m\n",
      "\u001b[2m   Use a production WSGI server instead.\u001b[0m\n",
      " * Debug mode: on\n",
      " * Running on http://127.0.0.1:5000/ (Press CTRL+C to quit)\n",
      " * Restarting with stat\n",
      " * Debugger is active!\n",
      " * Debugger PIN: 128-655-019\n"
     ]
    }
   ],
   "source": [
    "!python app_v1.py"
   ]
  },
  {
   "cell_type": "markdown",
   "id": "857f17c9-d891-4f46-9aa2-f37483d46468",
   "metadata": {},
   "source": [
    "#### flask\n",
    "\n",
    "above code will produce following: \n",
    "ModuleNotFoundError: No module named 'flask'\n",
    "\n",
    "from the 'ls' above we can see a (lower-case) requirements.txt file\n",
    "\n",
    "after running pip command below you may need to restart the kernel."
   ]
  },
  {
   "cell_type": "code",
   "execution_count": null,
   "id": "24db3f0a-19b6-4677-807f-9957c9ddbb87",
   "metadata": {},
   "outputs": [],
   "source": [
    "pip install -r requirements.txt"
   ]
  },
  {
   "cell_type": "code",
   "execution_count": null,
   "id": "b3cbc53c-0d88-4992-b1d1-578f48ac256d",
   "metadata": {},
   "outputs": [],
   "source": [
    "pip list"
   ]
  },
  {
   "cell_type": "code",
   "execution_count": null,
   "id": "f5d5c823-8a0d-454b-a2d5-9c68443477d5",
   "metadata": {},
   "outputs": [],
   "source": [
    "!python app_v1.py"
   ]
  },
  {
   "cell_type": "markdown",
   "id": "03e34cb7-e7ed-4cff-8d8f-73d9d5dbbf37",
   "metadata": {},
   "source": [
    "#### Jinja2 story: https://stackoverflow.com/questions/71718167/importerror-cannot-import-name-escape-from-jinja2"
   ]
  },
  {
   "cell_type": "code",
   "execution_count": null,
   "id": "1b706915-2f31-4e91-8a7b-c4aa561fffad",
   "metadata": {},
   "outputs": [],
   "source": [
    "pip install Jinja2==3.0.3"
   ]
  },
  {
   "cell_type": "code",
   "execution_count": null,
   "id": "7c3f92d9-f4d9-41b7-a452-884a14df2167",
   "metadata": {},
   "outputs": [],
   "source": [
    "!python app_v1.py"
   ]
  },
  {
   "cell_type": "markdown",
   "id": "f764b5b9-23ec-4645-a585-69ea9e9cdcf2",
   "metadata": {},
   "source": [
    "#### itsdangerous \n",
    "https://stackoverflow.com/questions/71189819/importerror-cannot-import-name-json-from-itsdangerous\n",
    "\n"
   ]
  },
  {
   "cell_type": "code",
   "execution_count": null,
   "id": "77c9fffb-78a3-44cc-9415-b7ad72d12f3b",
   "metadata": {},
   "outputs": [],
   "source": [
    " pip install itsdangerous==2.0.1"
   ]
  },
  {
   "cell_type": "code",
   "execution_count": null,
   "id": "0ea6ff9e-2573-4773-807a-7bf370407f34",
   "metadata": {
    "scrolled": true
   },
   "outputs": [
    {
     "name": "stdout",
     "output_type": "stream",
     "text": [
      " * Serving Flask app \"app_v1\" (lazy loading)\n",
      " * Environment: production\n",
      "\u001b[31m   WARNING: This is a development server. Do not use it in a production deployment.\u001b[0m\n",
      "\u001b[2m   Use a production WSGI server instead.\u001b[0m\n",
      " * Debug mode: on\n",
      " * Running on http://127.0.0.1:5000/ (Press CTRL+C to quit)\n",
      " * Restarting with stat\n",
      " * Debugger is active!\n",
      " * Debugger PIN: 128-655-019\n",
      "127.0.0.1 - - [20/Jan/2024 20:36:02] \"GET / HTTP/1.1\" 200 -\n",
      "127.0.0.1 - - [20/Jan/2024 20:36:02] \"GET /swaggerui/droid-sans.css HTTP/1.1\" 200 -\n",
      "127.0.0.1 - - [20/Jan/2024 20:36:02] \"GET /swaggerui/swagger-ui-bundle.js HTTP/1.1\" 200 -\n",
      "127.0.0.1 - - [20/Jan/2024 20:36:02] \"GET /swaggerui/swagger-ui-standalone-preset.js HTTP/1.1\" 200 -\n",
      "127.0.0.1 - - [20/Jan/2024 20:36:02] \"GET /swaggerui/swagger-ui.css HTTP/1.1\" 200 -\n",
      "127.0.0.1 - - [20/Jan/2024 20:36:02] \"GET /swaggerui/favicon-16x16.png HTTP/1.1\" 200 -\n",
      "127.0.0.1 - - [20/Jan/2024 20:36:02] \"GET /swagger.json HTTP/1.1\" 200 -\n"
     ]
    }
   ],
   "source": [
    "!python app_v1.py"
   ]
  },
  {
   "cell_type": "markdown",
   "id": "a441ee38-f851-40dd-81c5-649805bb2ab7",
   "metadata": {},
   "source": [
    "# - - - - - - - "
   ]
  },
  {
   "cell_type": "code",
   "execution_count": null,
   "id": "5a9f752e-b8b3-44db-b4d4-92b3c78530d4",
   "metadata": {},
   "outputs": [],
   "source": []
  }
 ],
 "metadata": {
  "kernelspec": {
   "display_name": "Python 3 (ipykernel)",
   "language": "python",
   "name": "python3"
  },
  "language_info": {
   "codemirror_mode": {
    "name": "ipython",
    "version": 3
   },
   "file_extension": ".py",
   "mimetype": "text/x-python",
   "name": "python",
   "nbconvert_exporter": "python",
   "pygments_lexer": "ipython3",
   "version": "3.8.18"
  }
 },
 "nbformat": 4,
 "nbformat_minor": 5
}
